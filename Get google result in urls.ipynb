{
 "cells": [
  {
   "cell_type": "code",
   "execution_count": 1,
   "metadata": {},
   "outputs": [],
   "source": [
    "import pandas as pd\n",
    "import numpy as np\n",
    "import urllib\n",
    "from fake_useragent import UserAgent\n",
    "import requests\n",
    "import re\n",
    "from urllib.request import Request, urlopen\n",
    "from bs4 import BeautifulSoup"
   ]
  },
  {
   "cell_type": "code",
   "execution_count": 2,
   "metadata": {},
   "outputs": [],
   "source": [
    "def google_results(keyword, n_results):\n",
    "    query = keyword\n",
    "    query = urllib.parse.quote_plus(query) # Format into URL encoding\n",
    "    number_result = n_results\n",
    "    ua = UserAgent()\n",
    "    google_url = \"https://www.google.com/search?q=\" + query + \"&num=\" + str(number_result)\n",
    "    response = requests.get(google_url, {\"User-Agent\": ua.random})\n",
    "    soup = BeautifulSoup(response.text, \"html.parser\")\n",
    "    result = soup.find_all('div', attrs = {'class': 'ZINbbc'})\n",
    "    results=[re.search('\\/url\\?q\\=(.*)\\&sa',str(i.find('a', href = True)['href'])) for i in result if \"url\" in str(i)]\n",
    "    links=[i.group(1) for i in results if i != None]\n",
    "    return (links)"
   ]
  },
  {
   "cell_type": "code",
   "execution_count": 5,
   "metadata": {},
   "outputs": [
    {
     "data": {
      "text/plain": [
       "['https://360propertymanagement.co.nz/',\n",
       " 'https://www.goodwins.co.nz/',\n",
       " 'https://www.aucklandproperty.net/',\n",
       " 'https://wendellproperty.co.nz/',\n",
       " 'https://www.quinovic.co.nz/',\n",
       " 'https://oaksproperty.co.nz/',\n",
       " 'https://www.crockers.co.nz/property-management-auckland/',\n",
       " 'https://www.metronz.co.nz/',\n",
       " 'https://aspireproperty.co.nz/',\n",
       " 'https://www.inspireproperty.co.nz/',\n",
       " 'https://www.clickpropertymanagement.co.nz/',\n",
       " 'https://www.pukekorentalmanagers.co.nz/',\n",
       " 'https://www.pointpropertymanagement.co.nz/',\n",
       " 'https://www.vertigro.co.nz/',\n",
       " 'https://www.stuff.co.nz/business/106240017/explainer-what-do-property-managers-do',\n",
       " 'https://impression.co.nz/',\n",
       " 'https://corinthian.co.nz/',\n",
       " 'https://cgpm.co.nz/',\n",
       " 'https://www.leaderspm.co.nz/',\n",
       " 'http://www.realpm.co.nz/',\n",
       " 'https://www.oxygen.co.nz/',\n",
       " 'https://porterpm.co.nz/',\n",
       " 'https://managemyproperty.co.nz/',\n",
       " 'https://www.topreviews.co.nz/best-auckland-property-management/',\n",
       " 'http://www.missionproperty.co.nz/',\n",
       " 'http://www.gralin.co.nz/',\n",
       " 'https://metropolispm.co.nz/',\n",
       " 'https://www.qrm.co.nz/',\n",
       " 'https://www.reinz.co.nz/residential-property-management',\n",
       " 'https://www.fullhousemanagement.co.nz/',\n",
       " 'https://angelpropertymanagers.co.nz/',\n",
       " 'https://www.careers.govt.nz/jobs-database/finance-and-property/property-services/property-manager/how-to-enter-the-job',\n",
       " 'https://www.barfoot.co.nz/landlords',\n",
       " 'https://www.oracleproperty.co.nz/',\n",
       " 'https://www.myrent.co.nz/',\n",
       " 'https://www.harperproperties.co.nz/',\n",
       " 'https://www.irelandpm.co.nz/',\n",
       " 'https://propertyinstitute.nz/Chapter%3FAction%3DView%26Chapter_id%3D4',\n",
       " 'https://ironbridge.co.nz/',\n",
       " 'https://content.harcourts.co.nz/property-management',\n",
       " 'https://www.prestigepm.co.nz/',\n",
       " 'https://www.cobbproperty.co.nz/',\n",
       " 'https://rentex.nz/',\n",
       " 'https://wiseproperty.co.nz/',\n",
       " 'https://www.maxproperty.co.nz/',\n",
       " 'https://www.arrowproperty.co.nz/',\n",
       " 'https://www.clearpropertymanagement.co.nz/',\n",
       " 'https://www.oneciti.co.nz/',\n",
       " 'https://www.seek.co.nz/property-management-jobs',\n",
       " 'https://www.zippi.net.nz/',\n",
       " 'https://www.a1prop.co.nz/',\n",
       " 'https://www.lpmproperty.co.nz/',\n",
       " 'https://www.reliancepropertymanagement.co.nz/',\n",
       " 'http://www.oneplace.co.nz/',\n",
       " 'https://skills.org.nz/careers-and-courses/real-estate/residential-property-manager/',\n",
       " 'https://www.propertyscouts.co.nz/',\n",
       " 'https://www.eliteproperty.co.nz/',\n",
       " 'https://gooderentals.co.nz/',\n",
       " 'https://tuscancity.co.nz/',\n",
       " 'https://holliejoss.co.nz/',\n",
       " 'https://www.professionals.co.nz/',\n",
       " 'https://www.staircasepm.co.nz/',\n",
       " 'https://blackandwhite.net.nz/',\n",
       " 'https://www.unoproperty.co.nz/',\n",
       " 'https://proedgeproperty.co.nz/',\n",
       " 'https://bayleyspropertymanagement.co.nz/',\n",
       " 'https://www.sunriseproperty.co.nz/',\n",
       " 'https://www.athomepropertymanagement.co.nz/',\n",
       " 'https://walkerweir.co.nz/',\n",
       " 'https://propertymanagementnorthshore.co.nz/',\n",
       " 'https://www.summit.co.nz/property-management/',\n",
       " 'https://www.consumer.org.nz/articles/property-managers',\n",
       " 'https://www.bayleys.co.nz/',\n",
       " 'https://www.pmgfunds.co.nz/',\n",
       " 'https://www.airpropty.co.nz/',\n",
       " 'https://promanagement.co.nz/',\n",
       " 'https://propertymanagementco.co.nz/',\n",
       " 'https://www.stableproperty.co.nz/',\n",
       " 'https://www.tenancy.govt.nz/starting-a-tenancy/new-to-tenancy/information-for-new-landlords/selecting-a-property-manager/',\n",
       " 'https://www.tenancy.co.nz/',\n",
       " 'https://www.iqproperty.co.nz/',\n",
       " 'https://manaproperty.co.nz/',\n",
       " 'https://newowners.bachcare.co.nz/airbnb-property-management',\n",
       " 'http://www.firststreet.co.nz/',\n",
       " 'https://christchurchrentalproperties.co.nz/',\n",
       " 'https://breezepm.co.nz/',\n",
       " 'https://www.colliers.co.nz/en-nz/countries/new-zealand/cities/auckland-cbd/real-estate-management',\n",
       " 'https://www.qpmltd.co.nz/',\n",
       " 'https://www.propertymanagementchch.co.nz/',\n",
       " 'https://www.comprende.co.nz/',\n",
       " 'https://priorityproperty.co.nz/',\n",
       " 'https://oystergroup.co.nz/',\n",
       " 'https://www.housemart.co.nz/',\n",
       " 'https://renthub.nz/',\n",
       " 'https://www.faceup.co.nz/property-management/',\n",
       " 'https://www.darroch.co.nz/',\n",
       " 'https://www.propertybrokers.co.nz/rentals/',\n",
       " 'https://quinovicmteden.co.nz/',\n",
       " 'https://www.staywell.biz/']"
      ]
     },
     "execution_count": 5,
     "metadata": {},
     "output_type": "execute_result"
    }
   ],
   "source": [
    "google_results('property management nz', 1000)"
   ]
  },
  {
   "cell_type": "code",
   "execution_count": null,
   "metadata": {},
   "outputs": [],
   "source": [
    "# then you can visit here to extract all email if you want\n",
    "#https://www.convertcsv.com/email-extractor.htm"
   ]
  },
  {
   "cell_type": "code",
   "execution_count": null,
   "metadata": {},
   "outputs": [],
   "source": []
  }
 ],
 "metadata": {
  "kernelspec": {
   "display_name": "Python 3",
   "language": "python",
   "name": "python3"
  },
  "language_info": {
   "codemirror_mode": {
    "name": "ipython",
    "version": 3
   },
   "file_extension": ".py",
   "mimetype": "text/x-python",
   "name": "python",
   "nbconvert_exporter": "python",
   "pygments_lexer": "ipython3",
   "version": "3.7.6"
  }
 },
 "nbformat": 4,
 "nbformat_minor": 4
}
