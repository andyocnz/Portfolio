{
 "cells": [
  {
   "cell_type": "markdown",
   "metadata": {},
   "source": [
    "# Sentiment Analysis in Account Management\n",
    "### Problem\n",
    "Managers find it very time consuming  to go through each of every accounts to read notes and find for potential problem\n",
    "### Solution\n",
    "With Sentiment Analysis, computers can calculate notes score and print the list of potential problem accounts with negative sore\n",
    "\n",
    "In this test, we will focus on one tool in the NLP toolkit: sentiment analysis. Sentiment analysis seeks to quantify the emotional intensity of words and phrases within a text. Some sentiment analysis tools can also factor in the emotional weight of other features of language such as punctuation or emojis."
   ]
  },
  {
   "cell_type": "markdown",
   "metadata": {},
   "source": [
    "#### Import required libraries"
   ]
  },
  {
   "cell_type": "code",
   "execution_count": 55,
   "metadata": {},
   "outputs": [
    {
     "name": "stderr",
     "output_type": "stream",
     "text": [
      "[nltk_data] Downloading package vader_lexicon to\n",
      "[nltk_data]     /Users/andy/nltk_data...\n",
      "[nltk_data]   Package vader_lexicon is already up-to-date!\n",
      "[nltk_data] Downloading package punkt to /Users/andy/nltk_data...\n",
      "[nltk_data]   Package punkt is already up-to-date!\n"
     ]
    }
   ],
   "source": [
    "import pandas as pd\n",
    "import nltk\n",
    "nltk.download('vader_lexicon')\n",
    "nltk.download('punkt')\n",
    "\n",
    "# first, we import the relevant modules from the NLTK library\n",
    "from nltk.sentiment.vader import SentimentIntensityAnalyzer\n",
    "\n",
    "# next, we initialize VADER so we can use it within our Python script\n",
    "sid = SentimentIntensityAnalyzer()"
   ]
  },
  {
   "cell_type": "markdown",
   "metadata": {},
   "source": [
    "#### Load data"
   ]
  },
  {
   "cell_type": "code",
   "execution_count": 8,
   "metadata": {},
   "outputs": [],
   "source": [
    "df=pd.read_csv('ar.csv')"
   ]
  },
  {
   "cell_type": "markdown",
   "metadata": {},
   "source": [
    "#### Print first 10 rows"
   ]
  },
  {
   "cell_type": "code",
   "execution_count": 9,
   "metadata": {},
   "outputs": [
    {
     "data": {
      "text/html": [
       "<div>\n",
       "<style scoped>\n",
       "    .dataframe tbody tr th:only-of-type {\n",
       "        vertical-align: middle;\n",
       "    }\n",
       "\n",
       "    .dataframe tbody tr th {\n",
       "        vertical-align: top;\n",
       "    }\n",
       "\n",
       "    .dataframe thead th {\n",
       "        text-align: right;\n",
       "    }\n",
       "</style>\n",
       "<table border=\"1\" class=\"dataframe\">\n",
       "  <thead>\n",
       "    <tr style=\"text-align: right;\">\n",
       "      <th></th>\n",
       "      <th>Acc Number</th>\n",
       "      <th>Last Annual Review Details</th>\n",
       "    </tr>\n",
       "  </thead>\n",
       "  <tbody>\n",
       "    <tr>\n",
       "      <th>0</th>\n",
       "      <td>640100147</td>\n",
       "      <td>start this business 20 years ago. both working...</td>\n",
       "    </tr>\n",
       "    <tr>\n",
       "      <th>1</th>\n",
       "      <td>640100347</td>\n",
       "      <td>they have been with BC for long so understand ...</td>\n",
       "    </tr>\n",
       "    <tr>\n",
       "      <th>2</th>\n",
       "      <td>640100461</td>\n",
       "      <td>The items I would like to cover in the meeting...</td>\n",
       "    </tr>\n",
       "    <tr>\n",
       "      <th>3</th>\n",
       "      <td>640101354</td>\n",
       "      <td>next auction is in march next year so no rush ...</td>\n",
       "    </tr>\n",
       "    <tr>\n",
       "      <th>4</th>\n",
       "      <td>640101792</td>\n",
       "      <td>just finished uni, will gradually take over Gr...</td>\n",
       "    </tr>\n",
       "    <tr>\n",
       "      <th>5</th>\n",
       "      <td>640102338</td>\n",
       "      <td>discussed potential openday for Bartercard cus...</td>\n",
       "    </tr>\n",
       "    <tr>\n",
       "      <th>6</th>\n",
       "      <td>640103752</td>\n",
       "      <td>Cliff will hand over to the new owner 1 Oct. H...</td>\n",
       "    </tr>\n",
       "    <tr>\n",
       "      <th>7</th>\n",
       "      <td>640103957</td>\n",
       "      <td>he downsized his business so not looking to ac...</td>\n",
       "    </tr>\n",
       "    <tr>\n",
       "      <th>8</th>\n",
       "      <td>640104616</td>\n",
       "      <td>he is going to touch based with Tony soon and ...</td>\n",
       "    </tr>\n",
       "    <tr>\n",
       "      <th>9</th>\n",
       "      <td>640105999</td>\n",
       "      <td>Met both Conrad and Alan at the premises in Ba...</td>\n",
       "    </tr>\n",
       "  </tbody>\n",
       "</table>\n",
       "</div>"
      ],
      "text/plain": [
       "  Acc Number                         Last Annual Review Details\n",
       "0  640100147  start this business 20 years ago. both working...\n",
       "1  640100347  they have been with BC for long so understand ...\n",
       "2  640100461  The items I would like to cover in the meeting...\n",
       "3  640101354  next auction is in march next year so no rush ...\n",
       "4  640101792  just finished uni, will gradually take over Gr...\n",
       "5  640102338  discussed potential openday for Bartercard cus...\n",
       "6  640103752  Cliff will hand over to the new owner 1 Oct. H...\n",
       "7  640103957  he downsized his business so not looking to ac...\n",
       "8  640104616  he is going to touch based with Tony soon and ...\n",
       "9  640105999  Met both Conrad and Alan at the premises in Ba..."
      ]
     },
     "execution_count": 9,
     "metadata": {},
     "output_type": "execute_result"
    }
   ],
   "source": [
    "df.head(10)"
   ]
  },
  {
   "cell_type": "markdown",
   "metadata": {},
   "source": [
    "#### Check for datatypes"
   ]
  },
  {
   "cell_type": "code",
   "execution_count": 19,
   "metadata": {},
   "outputs": [
    {
     "data": {
      "text/plain": [
       "Acc Number                    object\n",
       "Last Annual Review Details    object\n",
       "dtype: object"
      ]
     },
     "execution_count": 19,
     "metadata": {},
     "output_type": "execute_result"
    }
   ],
   "source": [
    "df.dtypes"
   ]
  },
  {
   "cell_type": "markdown",
   "metadata": {},
   "source": [
    "#### Convert to string"
   ]
  },
  {
   "cell_type": "code",
   "execution_count": 47,
   "metadata": {},
   "outputs": [],
   "source": [
    "df['Last Annual Review Details'] = df['Last Annual Review Details'].astype(str)"
   ]
  },
  {
   "cell_type": "markdown",
   "metadata": {},
   "source": [
    "#### Add new columns"
   ]
  },
  {
   "cell_type": "code",
   "execution_count": 48,
   "metadata": {},
   "outputs": [],
   "source": [
    "df['score']=''\n",
    "df['neg']=''\n",
    "df['neu']=''\n",
    "df['pos']=''"
   ]
  },
  {
   "cell_type": "markdown",
   "metadata": {},
   "source": [
    "#### Loop through dataframe and calculate score"
   ]
  },
  {
   "cell_type": "code",
   "execution_count": 49,
   "metadata": {},
   "outputs": [],
   "source": [
    "for index, row in df.iterrows(): \n",
    "    #print(row['Last Annual Review Details']) \n",
    "    msg=row['Last Annual Review Details']\n",
    "    \n",
    "    row['score'] = sid.polarity_scores(msg)\n",
    "    row['neg'] = row['score']['neg']\n",
    "    row['pos'] = row['score']['pos']\n",
    "    row['neu'] = row['score']['neu']"
   ]
  },
  {
   "cell_type": "markdown",
   "metadata": {},
   "source": [
    "#### Check data type"
   ]
  },
  {
   "cell_type": "code",
   "execution_count": 50,
   "metadata": {},
   "outputs": [
    {
     "data": {
      "text/plain": [
       "Acc Number                    object\n",
       "Last Annual Review Details    object\n",
       "score                         object\n",
       "neg                           object\n",
       "neu                           object\n",
       "pos                           object\n",
       "dtype: object"
      ]
     },
     "execution_count": 50,
     "metadata": {},
     "output_type": "execute_result"
    }
   ],
   "source": [
    "df.dtypes"
   ]
  },
  {
   "cell_type": "markdown",
   "metadata": {},
   "source": [
    "#### Convert to float"
   ]
  },
  {
   "cell_type": "code",
   "execution_count": 51,
   "metadata": {},
   "outputs": [],
   "source": [
    "df['neg']=df['neg'].astype('float')\n",
    "df['pos']=df['pos'].astype('float')\n",
    "df['neu']=df['neu'].astype('float')"
   ]
  },
  {
   "cell_type": "markdown",
   "metadata": {},
   "source": [
    "#### Check data type"
   ]
  },
  {
   "cell_type": "code",
   "execution_count": 52,
   "metadata": {},
   "outputs": [
    {
     "data": {
      "text/plain": [
       "Acc Number                     object\n",
       "Last Annual Review Details     object\n",
       "score                          object\n",
       "neg                           float64\n",
       "neu                           float64\n",
       "pos                           float64\n",
       "dtype: object"
      ]
     },
     "execution_count": 52,
     "metadata": {},
     "output_type": "execute_result"
    }
   ],
   "source": [
    "df.dtypes"
   ]
  },
  {
   "cell_type": "markdown",
   "metadata": {},
   "source": [
    "### Print all accounts with negative score >0"
   ]
  },
  {
   "cell_type": "code",
   "execution_count": 54,
   "metadata": {},
   "outputs": [
    {
     "data": {
      "text/html": [
       "<div>\n",
       "<style scoped>\n",
       "    .dataframe tbody tr th:only-of-type {\n",
       "        vertical-align: middle;\n",
       "    }\n",
       "\n",
       "    .dataframe tbody tr th {\n",
       "        vertical-align: top;\n",
       "    }\n",
       "\n",
       "    .dataframe thead th {\n",
       "        text-align: right;\n",
       "    }\n",
       "</style>\n",
       "<table border=\"1\" class=\"dataframe\">\n",
       "  <thead>\n",
       "    <tr style=\"text-align: right;\">\n",
       "      <th></th>\n",
       "      <th>Acc Number</th>\n",
       "      <th>Last Annual Review Details</th>\n",
       "      <th>score</th>\n",
       "      <th>neg</th>\n",
       "      <th>neu</th>\n",
       "      <th>pos</th>\n",
       "    </tr>\n",
       "  </thead>\n",
       "  <tbody>\n",
       "    <tr>\n",
       "      <th>3</th>\n",
       "      <td>640101354</td>\n",
       "      <td>next auction is in march next year so no rush ...</td>\n",
       "      <td>{'neg': 0.223, 'neu': 0.777, 'pos': 0.0, 'comp...</td>\n",
       "      <td>0.223</td>\n",
       "      <td>0.777</td>\n",
       "      <td>0.000</td>\n",
       "    </tr>\n",
       "    <tr>\n",
       "      <th>7</th>\n",
       "      <td>640103957</td>\n",
       "      <td>he downsized his business so not looking to ac...</td>\n",
       "      <td>{'neg': 0.22, 'neu': 0.78, 'pos': 0.0, 'compou...</td>\n",
       "      <td>0.220</td>\n",
       "      <td>0.780</td>\n",
       "      <td>0.000</td>\n",
       "    </tr>\n",
       "    <tr>\n",
       "      <th>10</th>\n",
       "      <td>641006894</td>\n",
       "      <td>Not keen to promote. Happy to take a group boo...</td>\n",
       "      <td>{'neg': 0.307, 'neu': 0.429, 'pos': 0.264, 'co...</td>\n",
       "      <td>0.307</td>\n",
       "      <td>0.429</td>\n",
       "      <td>0.264</td>\n",
       "    </tr>\n",
       "    <tr>\n",
       "      <th>15</th>\n",
       "      <td>640110838</td>\n",
       "      <td>couldn't make it on our trade. Been struggling...</td>\n",
       "      <td>{'neg': 0.259, 'neu': 0.741, 'pos': 0.0, 'comp...</td>\n",
       "      <td>0.259</td>\n",
       "      <td>0.741</td>\n",
       "      <td>0.000</td>\n",
       "    </tr>\n",
       "    <tr>\n",
       "      <th>26</th>\n",
       "      <td>642326105</td>\n",
       "      <td>Doesn't want to promote, Can't take any BC now...</td>\n",
       "      <td>{'neg': 0.299, 'neu': 0.701, 'pos': 0.0, 'comp...</td>\n",
       "      <td>0.299</td>\n",
       "      <td>0.701</td>\n",
       "      <td>0.000</td>\n",
       "    </tr>\n",
       "    <tr>\n",
       "      <th>31</th>\n",
       "      <td>642331149</td>\n",
       "      <td>move office to Beresford, downside a bit. Sean...</td>\n",
       "      <td>{'neg': 0.222, 'neu': 0.778, 'pos': 0.0, 'comp...</td>\n",
       "      <td>0.222</td>\n",
       "      <td>0.778</td>\n",
       "      <td>0.000</td>\n",
       "    </tr>\n",
       "    <tr>\n",
       "      <th>36</th>\n",
       "      <td>642338857</td>\n",
       "      <td>business is ok, don't want to promote on BC fo...</td>\n",
       "      <td>{'neg': 0.379, 'neu': 0.473, 'pos': 0.149, 'co...</td>\n",
       "      <td>0.379</td>\n",
       "      <td>0.473</td>\n",
       "      <td>0.149</td>\n",
       "    </tr>\n",
       "    <tr>\n",
       "      <th>40</th>\n",
       "      <td>641142886</td>\n",
       "      <td>Business is doing good. Not looking to promote...</td>\n",
       "      <td>{'neg': 0.181, 'neu': 0.579, 'pos': 0.24, 'com...</td>\n",
       "      <td>0.181</td>\n",
       "      <td>0.579</td>\n",
       "      <td>0.240</td>\n",
       "    </tr>\n",
       "    <tr>\n",
       "      <th>41</th>\n",
       "      <td>642343239</td>\n",
       "      <td>Business is good. But he isn't interested in r...</td>\n",
       "      <td>{'neg': 0.186, 'neu': 0.576, 'pos': 0.239, 'co...</td>\n",
       "      <td>0.186</td>\n",
       "      <td>0.576</td>\n",
       "      <td>0.239</td>\n",
       "    </tr>\n",
       "  </tbody>\n",
       "</table>\n",
       "</div>"
      ],
      "text/plain": [
       "   Acc Number                         Last Annual Review Details  \\\n",
       "3   640101354  next auction is in march next year so no rush ...   \n",
       "7   640103957  he downsized his business so not looking to ac...   \n",
       "10  641006894  Not keen to promote. Happy to take a group boo...   \n",
       "15  640110838  couldn't make it on our trade. Been struggling...   \n",
       "26  642326105  Doesn't want to promote, Can't take any BC now...   \n",
       "31  642331149  move office to Beresford, downside a bit. Sean...   \n",
       "36  642338857  business is ok, don't want to promote on BC fo...   \n",
       "40  641142886  Business is doing good. Not looking to promote...   \n",
       "41  642343239  Business is good. But he isn't interested in r...   \n",
       "\n",
       "                                                score    neg    neu    pos  \n",
       "3   {'neg': 0.223, 'neu': 0.777, 'pos': 0.0, 'comp...  0.223  0.777  0.000  \n",
       "7   {'neg': 0.22, 'neu': 0.78, 'pos': 0.0, 'compou...  0.220  0.780  0.000  \n",
       "10  {'neg': 0.307, 'neu': 0.429, 'pos': 0.264, 'co...  0.307  0.429  0.264  \n",
       "15  {'neg': 0.259, 'neu': 0.741, 'pos': 0.0, 'comp...  0.259  0.741  0.000  \n",
       "26  {'neg': 0.299, 'neu': 0.701, 'pos': 0.0, 'comp...  0.299  0.701  0.000  \n",
       "31  {'neg': 0.222, 'neu': 0.778, 'pos': 0.0, 'comp...  0.222  0.778  0.000  \n",
       "36  {'neg': 0.379, 'neu': 0.473, 'pos': 0.149, 'co...  0.379  0.473  0.149  \n",
       "40  {'neg': 0.181, 'neu': 0.579, 'pos': 0.24, 'com...  0.181  0.579  0.240  \n",
       "41  {'neg': 0.186, 'neu': 0.576, 'pos': 0.239, 'co...  0.186  0.576  0.239  "
      ]
     },
     "execution_count": 54,
     "metadata": {},
     "output_type": "execute_result"
    }
   ],
   "source": [
    "df[df['neg']>0]"
   ]
  },
  {
   "cell_type": "markdown",
   "metadata": {},
   "source": [
    "#### With thousands of accounts, regional manager will not have time to go through every account note to spot for early sign of potential problem. But with sentiment analaysis, managers can read quickly and spot problem account and take early action to prevent potential closure or reduce in revenue"
   ]
  },
  {
   "cell_type": "code",
   "execution_count": null,
   "metadata": {},
   "outputs": [],
   "source": []
  }
 ],
 "metadata": {
  "kernelspec": {
   "display_name": "Python 3",
   "language": "python",
   "name": "python3"
  },
  "language_info": {
   "codemirror_mode": {
    "name": "ipython",
    "version": 3
   },
   "file_extension": ".py",
   "mimetype": "text/x-python",
   "name": "python",
   "nbconvert_exporter": "python",
   "pygments_lexer": "ipython3",
   "version": "3.7.6"
  }
 },
 "nbformat": 4,
 "nbformat_minor": 4
}
